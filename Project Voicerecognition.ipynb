{
 "cells": [
  {
   "cell_type": "code",
   "execution_count": 1,
   "id": "radio-curve",
   "metadata": {},
   "outputs": [],
   "source": [
    "import librosa\n",
    "import librosa.display\n",
    "import matplotlib.pyplot as plt\n",
    "import os\n",
    "from scipy.io import wavfile\n",
    "from collections import defaultdict, Counter\n",
    "from scipy import signal\n",
    "import numpy as np\n",
    "import random as rn\n",
    "import tensorflow as tf\n",
    "from tensorflow.keras.layers import Dense\n",
    "from tensorflow.keras import Input, layers\n",
    "from tensorflow.keras import Model\n",
    "from tensorflow.keras.models import Sequential\n",
    "from tensorflow.keras.layers import LeakyReLU, concatenate\n",
    "from tensorflow.keras.utils import to_categorical\n",
    "from tensorflow.keras.layers import Dense, TimeDistributed, Dropout, Bidirectional, GRU, BatchNormalization, Activation, LSTM, Flatten, RepeatVector, Permute, Multiply, Conv1D, Conv2D, MaxPooling1D, MaxPooling2D\n",
    "from sklearn import preprocessing\n",
    "from statsmodels.stats.contingency_tables import mcnemar\n",
    "\n",
    "physical_devices = tf.config.experimental.list_physical_devices('GPU')\n",
    "tf.config.experimental.set_memory_growth(physical_devices[0], True)"
   ]
  },
  {
   "cell_type": "code",
   "execution_count": 2,
   "id": "suspected-toronto",
   "metadata": {},
   "outputs": [],
   "source": [
    "# Padding functions used in preprocessing function\n",
    "pad1d = lambda a, i: a[0: i] if a.shape[0] > i else np.hstack((a, np.zeros(i - a.shape[0])))\n",
    "pad2d = lambda a, i: a[:, 0: i] if a.shape[1] > i else np.hstack((a, np.zeros((a.shape[0],i - a.shape[1]))))"
   ]
  },
  {
   "cell_type": "code",
   "execution_count": 5,
   "id": "martial-convertible",
   "metadata": {},
   "outputs": [],
   "source": [
    "def preProcessData(directory):\n",
    "    '''\n",
    "    Takes a directory and returns tensors of labels and data in Raw format and \"MFCC format\".\n",
    "    Tensors are zero-padded to fit a CNN input.\n",
    "    '''\n",
    "    \n",
    "    # Dictionary used for translation of label values.\n",
    "    translation = {'backward': 0, 'bed': 1, 'bird': 2,'cat': 3, 'dog': 4, 'down': 5,'eight': 6,'five': 7, 'follow': 8,\n",
    "               'forward': 9, 'four': 10, 'go': 11, 'happy': 12, 'house': 13, 'learn': 14, 'left': 15, 'nine': 16,\n",
    "               'no': 17, 'off': 18, 'on': 19, 'one': 20, 'right': 21, 'seven': 22, 'six': 23, 'stop': 24, 'three': 25,\n",
    "               'tree': 26, 'two': 27, 'up': 28, 'visual': 29, 'wow': 30, 'yes': 31, 'zero': 32}\n",
    "    \n",
    "    dataRaw = []\n",
    "    dataMfcc = []\n",
    "    labels = []\n",
    "    \n",
    "    for fileName in os.listdir(directory):\n",
    "        wav, sr = librosa.load(directory + \"/\" + fileName)\n",
    "        wordName = fileName.split('_')[0]\n",
    "        \n",
    "        # Pad and normalize data (mean 0 and std.dev 1). Only raw wave will be downsampled\n",
    "        # Raw wavedata\n",
    "        wav8k = librosa.resample(wav, sr, 8000)\n",
    "        paddedRaw = pad1d(wav8k, 8000)\n",
    "        paddedRaw = (paddedRaw - np.mean(paddedRaw)) / np.std(paddedRaw)\n",
    "        \n",
    "        # MFCC\n",
    "        mfcc = librosa.feature.mfcc(wav)\n",
    "        paddedMfcc = pad2d(mfcc, 45)\n",
    "        paddedMfcc = (paddedMfcc - np.mean(paddedMfcc)) / np.std(paddedMfcc)\n",
    "        \n",
    "        dataRaw.append(paddedRaw)\n",
    "        dataMfcc.append(paddedMfcc)\n",
    "        labels.append(translation[wordName])\n",
    "    \n",
    "    # Make labeling data categorical\n",
    "    labels = tf.keras.utils.to_categorical(labels)\n",
    "    \n",
    "    # Format the data to fit tensorflow input\n",
    "    dataRaw = np.vstack(dataRaw)\n",
    "    dataRaw = np.expand_dims(dataRaw, -1)\n",
    "    dataMfcc = np.expand_dims(np.array(dataMfcc), -1)\n",
    "    \n",
    "    return dataRaw, dataMfcc, labels"
   ]
  },
  {
   "cell_type": "code",
   "execution_count": 4,
   "id": "controlled-basics",
   "metadata": {},
   "outputs": [],
   "source": [
    "# Fetch input data, can choose 'small', 'medium' or 'full' size of dataset\n",
    "# Split of data in train/test/validaion is done prio to this script\n",
    "dataSetSize = 'full'\n",
    "\n",
    "trainDataRaw, trainDataMfcc, trainLabels = preProcessData(dataSetSize + 'Repo/train')\n",
    "testDataRaw, testDataMfcc, testLabels = preProcessData(dataSetSize + 'Repo/test')\n",
    "validationDataRaw, validationDataMfcc, validationLabels = preProcessData(dataSetSize + 'Repo/validation')"
   ]
  },
  {
   "cell_type": "code",
   "execution_count": 6,
   "id": "thirty-joining",
   "metadata": {},
   "outputs": [
    {
     "name": "stdout",
     "output_type": "stream",
     "text": [
      "(81354, 8000, 1) (81354, 20, 45, 1) (81354, 33)\n",
      "(10167, 8000, 1) (10167, 20, 45, 1) (10167, 33)\n",
      "(10186, 8000, 1) (10186, 20, 45, 1) (10186, 33)\n"
     ]
    }
   ],
   "source": [
    "print(trainDataRaw.shape, trainDataMfcc.shape, trainLabels.shape)\n",
    "print(testDataRaw.shape, testDataMfcc.shape, testLabels.shape)\n",
    "print(validationDataRaw.shape, validationDataMfcc.shape, validationLabels.shape)"
   ]
  },
  {
   "cell_type": "code",
   "execution_count": 7,
   "id": "allied-wilderness",
   "metadata": {},
   "outputs": [
    {
     "name": "stdout",
     "output_type": "stream",
     "text": [
      "Model: \"model\"\n",
      "_________________________________________________________________\n",
      "Layer (type)                 Output Shape              Param #   \n",
      "=================================================================\n",
      "input_1 (InputLayer)         [(None, 20, 45, 1)]       0         \n",
      "_________________________________________________________________\n",
      "conv2d (Conv2D)              (None, 18, 43, 64)        640       \n",
      "_________________________________________________________________\n",
      "conv2d_1 (Conv2D)            (None, 16, 41, 64)        36928     \n",
      "_________________________________________________________________\n",
      "conv2d_2 (Conv2D)            (None, 14, 39, 64)        36928     \n",
      "_________________________________________________________________\n",
      "max_pooling2d (MaxPooling2D) (None, 7, 19, 64)         0         \n",
      "_________________________________________________________________\n",
      "conv2d_3 (Conv2D)            (None, 5, 17, 128)        73856     \n",
      "_________________________________________________________________\n",
      "conv2d_4 (Conv2D)            (None, 3, 15, 128)        147584    \n",
      "_________________________________________________________________\n",
      "max_pooling2d_1 (MaxPooling2 (None, 1, 7, 128)         0         \n",
      "_________________________________________________________________\n",
      "flatten (Flatten)            (None, 896)               0         \n",
      "_________________________________________________________________\n",
      "dropout (Dropout)            (None, 896)               0         \n",
      "_________________________________________________________________\n",
      "dense (Dense)                (None, 128)               114816    \n",
      "_________________________________________________________________\n",
      "dropout_1 (Dropout)          (None, 128)               0         \n",
      "_________________________________________________________________\n",
      "dense_1 (Dense)              (None, 128)               16512     \n",
      "_________________________________________________________________\n",
      "dropout_2 (Dropout)          (None, 128)               0         \n",
      "_________________________________________________________________\n",
      "dense_2 (Dense)              (None, 33)                4257      \n",
      "=================================================================\n",
      "Total params: 431,521\n",
      "Trainable params: 431,521\n",
      "Non-trainable params: 0\n",
      "_________________________________________________________________\n"
     ]
    }
   ],
   "source": [
    "# Create and compile MFCC model\n",
    "inputTensorMfcc = Input(shape=(trainDataMfcc[0].shape))\n",
    "x = Conv2D(64, (3, 3), padding='valid', activation='relu')(inputTensorMfcc)\n",
    "x = Conv2D(64, (3, 3), padding='valid', activation='relu')(x)\n",
    "x = Conv2D(64, (3, 3), padding='valid', activation='relu')(x)\n",
    "x = MaxPooling2D((2 ,2))(x)\n",
    "x = Conv2D(128, (3, 3), padding='valid', activation='relu')(x)\n",
    "x = Conv2D(128, (3, 3), padding='valid', activation='relu')(x)\n",
    "x = MaxPooling2D((2 ,2))(x)\n",
    "x = Flatten()(x)\n",
    "x = Dropout(0.25)(x)\n",
    "x = Dense(128, activation='relu')(x)\n",
    "x = Dropout(0.25)(x)\n",
    "x = Dense(128, activation='relu')(x)\n",
    "x = Dropout(0.2)(x)\n",
    "outputTensorMfcc = Dense(33, activation='softmax')(x)\n",
    "\n",
    "modelM = Model(inputTensorMfcc, outputTensorMfcc)\n",
    "modelM.summary()\n",
    "\n",
    "modelM.compile(loss='categorical_crossentropy',\n",
    "          optimizer='adam',\n",
    "          metrics=['accuracy'])"
   ]
  },
  {
   "cell_type": "code",
   "execution_count": 8,
   "id": "magnetic-crawford",
   "metadata": {},
   "outputs": [
    {
     "name": "stdout",
     "output_type": "stream",
     "text": [
      "Epoch 1/15\n",
      "2543/2543 [==============================] - 14s 5ms/step - loss: 1.6277 - accuracy: 0.5178 - val_loss: 0.6845 - val_accuracy: 0.7983\n",
      "Epoch 2/15\n",
      "2543/2543 [==============================] - 13s 5ms/step - loss: 0.7277 - accuracy: 0.7835 - val_loss: 0.4898 - val_accuracy: 0.8569\n",
      "Epoch 3/15\n",
      "2543/2543 [==============================] - 13s 5ms/step - loss: 0.5554 - accuracy: 0.8356 - val_loss: 0.4044 - val_accuracy: 0.8760\n",
      "Epoch 4/15\n",
      "2543/2543 [==============================] - 13s 5ms/step - loss: 0.4706 - accuracy: 0.8611 - val_loss: 0.3667 - val_accuracy: 0.8903\n",
      "Epoch 5/15\n",
      "2543/2543 [==============================] - 13s 5ms/step - loss: 0.4253 - accuracy: 0.8746 - val_loss: 0.3630 - val_accuracy: 0.8929\n",
      "Epoch 6/15\n",
      "2543/2543 [==============================] - 13s 5ms/step - loss: 0.3896 - accuracy: 0.8855 - val_loss: 0.3419 - val_accuracy: 0.8998\n",
      "Epoch 7/15\n",
      "2543/2543 [==============================] - 13s 5ms/step - loss: 0.3662 - accuracy: 0.8923 - val_loss: 0.3273 - val_accuracy: 0.9050\n",
      "Epoch 8/15\n",
      "2543/2543 [==============================] - 13s 5ms/step - loss: 0.3456 - accuracy: 0.8981 - val_loss: 0.3199 - val_accuracy: 0.9064\n",
      "Epoch 9/15\n",
      "2543/2543 [==============================] - 13s 5ms/step - loss: 0.3319 - accuracy: 0.9014 - val_loss: 0.3258 - val_accuracy: 0.9056\n",
      "Epoch 10/15\n",
      "2543/2543 [==============================] - 13s 5ms/step - loss: 0.3152 - accuracy: 0.9060 - val_loss: 0.3011 - val_accuracy: 0.9121\n",
      "Epoch 11/15\n",
      "2543/2543 [==============================] - 13s 5ms/step - loss: 0.3067 - accuracy: 0.9102 - val_loss: 0.3207 - val_accuracy: 0.9093\n",
      "Epoch 12/15\n",
      "2543/2543 [==============================] - 13s 5ms/step - loss: 0.2983 - accuracy: 0.9129 - val_loss: 0.2990 - val_accuracy: 0.9175\n",
      "Epoch 13/15\n",
      "2543/2543 [==============================] - 13s 5ms/step - loss: 0.2883 - accuracy: 0.9160 - val_loss: 0.3067 - val_accuracy: 0.9131\n",
      "Epoch 14/15\n",
      "2543/2543 [==============================] - 13s 5ms/step - loss: 0.2838 - accuracy: 0.9162 - val_loss: 0.3087 - val_accuracy: 0.9143\n",
      "Epoch 15/15\n",
      "2543/2543 [==============================] - 13s 5ms/step - loss: 0.2778 - accuracy: 0.9187 - val_loss: 0.3250 - val_accuracy: 0.9125\n"
     ]
    }
   ],
   "source": [
    "# Fit MFCC model\n",
    "historyM = modelM.fit(trainDataMfcc,\n",
    "          trainLabels,\n",
    "          epochs=15,\n",
    "          batch_size=32,\n",
    "          validation_data=(validationDataMfcc, validationLabels))"
   ]
  },
  {
   "cell_type": "code",
   "execution_count": 9,
   "id": "polyphonic-pursuit",
   "metadata": {},
   "outputs": [
    {
     "name": "stdout",
     "output_type": "stream",
     "text": [
      "318/318 [==============================] - 1s 2ms/step - loss: 0.3386 - accuracy: 0.9114\n"
     ]
    }
   ],
   "source": [
    "resultsM = modelM.evaluate(testDataMfcc, testLabels, batch_size=32)"
   ]
  },
  {
   "cell_type": "code",
   "execution_count": 90,
   "id": "engaged-brake",
   "metadata": {},
   "outputs": [],
   "source": [
    "# Prepare performance graph, MFCC\n",
    "plt.style.use('seaborn-whitegrid')\n",
    "historyDictM = historyM.history\n",
    "lossM = historyDictM['loss']\n",
    "valLossM = historyDictM['val_loss']\n",
    "accM = historyDictM['accuracy']\n",
    "valAccM = historyDictM['val_accuracy']\n",
    "epochsM = range(1, len(lossM) + 1)"
   ]
  },
  {
   "cell_type": "code",
   "execution_count": 91,
   "id": "going-classics",
   "metadata": {},
   "outputs": [
    {
     "data": {
      "text/plain": [
       "<function matplotlib.pyplot.show(close=None, block=None)>"
      ]
     },
     "execution_count": 91,
     "metadata": {},
     "output_type": "execute_result"
    },
    {
     "data": {
      "text/plain": [
       "<Figure size 432x288 with 0 Axes>"
      ]
     },
     "metadata": {},
     "output_type": "display_data"
    },
    {
     "data": {
      "image/png": "[encoded data removed]",
      "text/plain": [
       "<Figure size 576x432 with 2 Axes>"
      ]
     },
     "metadata": {},
     "output_type": "display_data"
    }
   ],
   "source": [
    "plt.clf()\n",
    "fig, ax = plt.subplots(2, figsize=(8,6))\n",
    "fig.suptitle(\"Accuracy and Loss for MFCC model\", fontsize=18)\n",
    "ax[0].plot(epochsM, accM, '--r', label='Training accuracy')\n",
    "ax[0].plot(epochsM, valAccM, 'b', label='Validation accuracy')\n",
    "ax[0].set_xticks(epochsM)\n",
    "ax[0].set_yticks(np.arange(0.0, 1.0, step=0.1))\n",
    "ax[0].set_ylabel(\"Accuracy\", fontsize=16)\n",
    "ax[0].set_ylim(0.6, 1.0)\n",
    "\n",
    "\n",
    "ax[1].plot(epochsM, lossM, '--r', label='Training Loss')\n",
    "ax[1].plot(epochsM, valLossM, 'b', label='Validation Loss')\n",
    "ax[1].set_yticks(np.arange(0.0, 2.0, step=0.5))\n",
    "ax[1].set_ylabel(\"Loss\", fontsize=16)\n",
    "ax[1].set_xlabel(\"Epochs\", fontsize=16)\n",
    "\n",
    "ax[0].legend(fontsize=12, loc='lower right')\n",
    "ax[1].legend(fontsize=12, loc='upper right')\n",
    "plt.show"
   ]
  },
  {
   "cell_type": "code",
   "execution_count": 92,
   "id": "detailed-calculation",
   "metadata": {},
   "outputs": [
    {
     "name": "stdout",
     "output_type": "stream",
     "text": [
      "Model: \"model_1\"\n",
      "_________________________________________________________________\n",
      "Layer (type)                 Output Shape              Param #   \n",
      "=================================================================\n",
      "input_2 (InputLayer)         [(None, 8000, 1)]         0         \n",
      "_________________________________________________________________\n",
      "conv1d (Conv1D)              (None, 8000, 64)          640       \n",
      "_________________________________________________________________\n",
      "conv1d_1 (Conv1D)            (None, 8000, 64)          36928     \n",
      "_________________________________________________________________\n",
      "max_pooling1d (MaxPooling1D) (None, 1142, 64)          0         \n",
      "_________________________________________________________________\n",
      "conv1d_2 (Conv1D)            (None, 1142, 128)         73856     \n",
      "_________________________________________________________________\n",
      "conv1d_3 (Conv1D)            (None, 1142, 128)         147584    \n",
      "_________________________________________________________________\n",
      "max_pooling1d_1 (MaxPooling1 (None, 163, 128)          0         \n",
      "_________________________________________________________________\n",
      "conv1d_4 (Conv1D)            (None, 163, 256)          295168    \n",
      "_________________________________________________________________\n",
      "conv1d_5 (Conv1D)            (None, 163, 256)          590080    \n",
      "_________________________________________________________________\n",
      "max_pooling1d_2 (MaxPooling1 (None, 32, 256)           0         \n",
      "_________________________________________________________________\n",
      "flatten_1 (Flatten)          (None, 8192)              0         \n",
      "_________________________________________________________________\n",
      "dropout_3 (Dropout)          (None, 8192)              0         \n",
      "_________________________________________________________________\n",
      "dense_3 (Dense)              (None, 128)               1048704   \n",
      "_________________________________________________________________\n",
      "dropout_4 (Dropout)          (None, 128)               0         \n",
      "_________________________________________________________________\n",
      "dense_4 (Dense)              (None, 33)                4257      \n",
      "=================================================================\n",
      "Total params: 2,197,217\n",
      "Trainable params: 2,197,217\n",
      "Non-trainable params: 0\n",
      "_________________________________________________________________\n"
     ]
    }
   ],
   "source": [
    "# Create and compile Raw data model\n",
    "inputTensorRaw = Input(shape=(trainDataRaw[0].shape))\n",
    "y = Conv1D(64, 9, padding='same', activation='relu')(inputTensorRaw)\n",
    "y = Conv1D(64, 9, padding='same', activation='relu')(y)\n",
    "y = MaxPooling1D((7))(y)\n",
    "y = Conv1D(128, 9, padding='same', activation='relu')(y)\n",
    "y = Conv1D(128, 9, padding='same', activation='relu')(y)\n",
    "y = MaxPooling1D((7))(y)\n",
    "y = Conv1D(256, 9, padding='same', activation='relu')(y)\n",
    "y = Conv1D(256, 9, padding='same', activation='relu')(y)\n",
    "y = MaxPooling1D((5))(y)\n",
    "y = Flatten()(y)\n",
    "y = Dropout(0.4)(y)\n",
    "y = Dense(128, activation='relu')(y)\n",
    "y = Dropout(0.4)(y)\n",
    "outputTensorRaw = Dense(33, activation='softmax')(y)\n",
    "\n",
    "modelR = Model(inputTensorRaw, outputTensorRaw)\n",
    "modelR.summary()\n",
    "\n",
    "modelR.compile(loss='categorical_crossentropy',\n",
    "          optimizer='adam',\n",
    "          metrics=['accuracy'])"
   ]
  },
  {
   "cell_type": "code",
   "execution_count": 93,
   "id": "smaller-inside",
   "metadata": {},
   "outputs": [
    {
     "name": "stdout",
     "output_type": "stream",
     "text": [
      "Epoch 1/15\n",
      "636/636 [==============================] - 119s 187ms/step - loss: 2.0806 - accuracy: 0.3909 - val_loss: 0.8898 - val_accuracy: 0.7320\n",
      "Epoch 2/15\n",
      "636/636 [==============================] - 119s 186ms/step - loss: 0.9042 - accuracy: 0.7308 - val_loss: 0.5398 - val_accuracy: 0.8358\n",
      "Epoch 3/15\n",
      "636/636 [==============================] - 119s 187ms/step - loss: 0.6568 - accuracy: 0.8046 - val_loss: 0.4480 - val_accuracy: 0.8688\n",
      "Epoch 4/15\n",
      "636/636 [==============================] - 119s 187ms/step - loss: 0.5450 - accuracy: 0.8355 - val_loss: 0.3966 - val_accuracy: 0.8834\n",
      "Epoch 5/15\n",
      "636/636 [==============================] - 119s 187ms/step - loss: 0.4787 - accuracy: 0.8569 - val_loss: 0.3713 - val_accuracy: 0.8874\n",
      "Epoch 6/15\n",
      "636/636 [==============================] - 119s 187ms/step - loss: 0.4330 - accuracy: 0.8699 - val_loss: 0.3522 - val_accuracy: 0.8958\n",
      "Epoch 7/15\n",
      "636/636 [==============================] - 119s 187ms/step - loss: 0.3936 - accuracy: 0.8806 - val_loss: 0.3410 - val_accuracy: 0.9002\n",
      "Epoch 8/15\n",
      "636/636 [==============================] - 119s 187ms/step - loss: 0.3706 - accuracy: 0.8874 - val_loss: 0.3412 - val_accuracy: 0.8967\n",
      "Epoch 9/15\n",
      "636/636 [==============================] - 119s 187ms/step - loss: 0.3463 - accuracy: 0.8941 - val_loss: 0.3080 - val_accuracy: 0.9101\n",
      "Epoch 10/15\n",
      "636/636 [==============================] - 119s 187ms/step - loss: 0.3316 - accuracy: 0.8973 - val_loss: 0.3240 - val_accuracy: 0.9068\n",
      "Epoch 11/15\n",
      "636/636 [==============================] - 119s 187ms/step - loss: 0.3159 - accuracy: 0.9032 - val_loss: 0.3144 - val_accuracy: 0.9064\n",
      "Epoch 12/15\n",
      "636/636 [==============================] - 119s 187ms/step - loss: 0.2992 - accuracy: 0.9078 - val_loss: 0.3133 - val_accuracy: 0.9075\n",
      "Epoch 13/15\n",
      "636/636 [==============================] - 119s 187ms/step - loss: 0.2870 - accuracy: 0.9118 - val_loss: 0.3117 - val_accuracy: 0.9096\n",
      "Epoch 14/15\n",
      "636/636 [==============================] - 119s 186ms/step - loss: 0.2751 - accuracy: 0.9145 - val_loss: 0.3024 - val_accuracy: 0.9131\n",
      "Epoch 15/15\n",
      "636/636 [==============================] - 119s 186ms/step - loss: 0.2642 - accuracy: 0.9187 - val_loss: 0.2958 - val_accuracy: 0.9167\n"
     ]
    }
   ],
   "source": [
    "# Fit Raw wave model\n",
    "historyR = modelR.fit(trainDataRaw,\n",
    "          trainLabels,\n",
    "          epochs=15,\n",
    "          batch_size=128,\n",
    "          validation_data=(validationDataRaw, validationLabels))"
   ]
  },
  {
   "cell_type": "code",
   "execution_count": 94,
   "id": "discrete-resident",
   "metadata": {},
   "outputs": [
    {
     "name": "stdout",
     "output_type": "stream",
     "text": [
      "318/318 [==============================] - 5s 16ms/step - loss: 0.3127 - accuracy: 0.9134\n"
     ]
    }
   ],
   "source": [
    "resultsR = modelR.evaluate(testDataRaw, testLabels)"
   ]
  },
  {
   "cell_type": "code",
   "execution_count": 95,
   "id": "afraid-credits",
   "metadata": {},
   "outputs": [],
   "source": [
    "# Prepare performance graph, Raw wave\n",
    "plt.style.use('seaborn-whitegrid')\n",
    "historyDictR = historyR.history\n",
    "lossR = historyDictR['loss']\n",
    "valLossR = historyDictR['val_loss']\n",
    "accR = historyDictR['accuracy']\n",
    "valAccR = historyDictR['val_accuracy']\n",
    "epochsR = range(1, len(lossR) + 1)"
   ]
  },
  {
   "cell_type": "code",
   "execution_count": 96,
   "id": "excited-phenomenon",
   "metadata": {},
   "outputs": [
    {
     "data": {
      "text/plain": [
       "<function matplotlib.pyplot.show(close=None, block=None)>"
      ]
     },
     "execution_count": 96,
     "metadata": {},
     "output_type": "execute_result"
    },
    {
     "data": {
      "text/plain": [
       "<Figure size 432x288 with 0 Axes>"
      ]
     },
     "metadata": {},
     "output_type": "display_data"
    },
    {
     "data": {
      "image/png": "[encoded data removed]",
      "text/plain": [
       "<Figure size 576x432 with 2 Axes>"
      ]
     },
     "metadata": {},
     "output_type": "display_data"
    }
   ],
   "source": [
    "plt.clf()\n",
    "fig, ax = plt.subplots(2, figsize=(8,6))\n",
    "fig.suptitle(\"Accuracy and Loss for Raw model\", fontsize=18)\n",
    "ax[0].plot(epochsR, accR, '--r', label='Training accuracy')\n",
    "ax[0].plot(epochsR, valAccR, 'b', label='Validation accuracy')\n",
    "ax[0].set_xticks(epochsR)\n",
    "ax[0].set_yticks(np.arange(0.0, 1.0, step=0.1))\n",
    "ax[0].set_ylabel(\"Accuracy\", fontsize=16)\n",
    "ax[0].set_ylim(0.6, 1.0)\n",
    "\n",
    "ax[1].plot(epochsR, lossR, '--r', label='Training Loss')\n",
    "ax[1].plot(epochsR, valLossR, 'b', label='Validation Loss')\n",
    "ax[1].set_yticks(np.arange(0.0, 2.0, step=0.5))\n",
    "ax[1].set_ylabel(\"Loss\", fontsize=16)\n",
    "ax[1].set_xlabel(\"Epochs\", fontsize=16)\n",
    "\n",
    "ax[0].legend(fontsize=12, loc='lower right')\n",
    "ax[1].legend(fontsize=12, loc='upper right')\n",
    "plt.show"
   ]
  },
  {
   "cell_type": "code",
   "execution_count": 104,
   "id": "derived-annual",
   "metadata": {},
   "outputs": [
    {
     "name": "stdout",
     "output_type": "stream",
     "text": [
      "Model: \"model_3\"\n",
      "__________________________________________________________________________________________________\n",
      "Layer (type)                    Output Shape         Param #     Connected to                     \n",
      "==================================================================================================\n",
      "MFCC (InputLayer)               [(None, 20, 45, 1)]  0                                            \n",
      "__________________________________________________________________________________________________\n",
      "RawWave (InputLayer)            [(None, 8000, 1)]    0                                            \n",
      "__________________________________________________________________________________________________\n",
      "conv2d_10 (Conv2D)              (None, 18, 43, 64)   640         MFCC[0][0]                       \n",
      "__________________________________________________________________________________________________\n",
      "conv1d_12 (Conv1D)              (None, 8000, 64)     640         RawWave[0][0]                    \n",
      "__________________________________________________________________________________________________\n",
      "conv2d_11 (Conv2D)              (None, 16, 41, 64)   36928       conv2d_10[0][0]                  \n",
      "__________________________________________________________________________________________________\n",
      "conv1d_13 (Conv1D)              (None, 8000, 64)     36928       conv1d_12[0][0]                  \n",
      "__________________________________________________________________________________________________\n",
      "conv2d_12 (Conv2D)              (None, 14, 39, 64)   36928       conv2d_11[0][0]                  \n",
      "__________________________________________________________________________________________________\n",
      "max_pooling1d_6 (MaxPooling1D)  (None, 1142, 64)     0           conv1d_13[0][0]                  \n",
      "__________________________________________________________________________________________________\n",
      "max_pooling2d_4 (MaxPooling2D)  (None, 7, 19, 64)    0           conv2d_12[0][0]                  \n",
      "__________________________________________________________________________________________________\n",
      "conv1d_14 (Conv1D)              (None, 1142, 128)    73856       max_pooling1d_6[0][0]            \n",
      "__________________________________________________________________________________________________\n",
      "conv2d_13 (Conv2D)              (None, 5, 17, 128)   73856       max_pooling2d_4[0][0]            \n",
      "__________________________________________________________________________________________________\n",
      "conv1d_15 (Conv1D)              (None, 1142, 128)    147584      conv1d_14[0][0]                  \n",
      "__________________________________________________________________________________________________\n",
      "conv2d_14 (Conv2D)              (None, 3, 15, 128)   147584      conv2d_13[0][0]                  \n",
      "__________________________________________________________________________________________________\n",
      "max_pooling1d_7 (MaxPooling1D)  (None, 163, 128)     0           conv1d_15[0][0]                  \n",
      "__________________________________________________________________________________________________\n",
      "max_pooling2d_5 (MaxPooling2D)  (None, 1, 7, 128)    0           conv2d_14[0][0]                  \n",
      "__________________________________________________________________________________________________\n",
      "conv1d_16 (Conv1D)              (None, 163, 256)     295168      max_pooling1d_7[0][0]            \n",
      "__________________________________________________________________________________________________\n",
      "flatten_4 (Flatten)             (None, 896)          0           max_pooling2d_5[0][0]            \n",
      "__________________________________________________________________________________________________\n",
      "conv1d_17 (Conv1D)              (None, 163, 256)     590080      conv1d_16[0][0]                  \n",
      "__________________________________________________________________________________________________\n",
      "dropout_10 (Dropout)            (None, 896)          0           flatten_4[0][0]                  \n",
      "__________________________________________________________________________________________________\n",
      "max_pooling1d_8 (MaxPooling1D)  (None, 32, 256)      0           conv1d_17[0][0]                  \n",
      "__________________________________________________________________________________________________\n",
      "dense_9 (Dense)                 (None, 128)          114816      dropout_10[0][0]                 \n",
      "__________________________________________________________________________________________________\n",
      "flatten_5 (Flatten)             (None, 8192)         0           max_pooling1d_8[0][0]            \n",
      "__________________________________________________________________________________________________\n",
      "dropout_11 (Dropout)            (None, 128)          0           dense_9[0][0]                    \n",
      "__________________________________________________________________________________________________\n",
      "dropout_13 (Dropout)            (None, 8192)         0           flatten_5[0][0]                  \n",
      "__________________________________________________________________________________________________\n",
      "dense_10 (Dense)                (None, 128)          16512       dropout_11[0][0]                 \n",
      "__________________________________________________________________________________________________\n",
      "dense_11 (Dense)                (None, 128)          1048704     dropout_13[0][0]                 \n",
      "__________________________________________________________________________________________________\n",
      "dropout_12 (Dropout)            (None, 128)          0           dense_10[0][0]                   \n",
      "__________________________________________________________________________________________________\n",
      "dropout_14 (Dropout)            (None, 128)          0           dense_11[0][0]                   \n",
      "__________________________________________________________________________________________________\n",
      "concatenate_1 (Concatenate)     (None, 256)          0           dropout_12[0][0]                 \n",
      "                                                                 dropout_14[0][0]                 \n",
      "__________________________________________________________________________________________________\n",
      "dense_12 (Dense)                (None, 33)           8481        concatenate_1[0][0]              \n",
      "==================================================================================================\n",
      "Total params: 2,628,705\n",
      "Trainable params: 2,628,705\n",
      "Non-trainable params: 0\n",
      "__________________________________________________________________________________________________\n"
     ]
    }
   ],
   "source": [
    "# Create and compile combined model\n",
    "# MFCC branch\n",
    "inputTensorMfcc = Input(shape=(trainDataMfcc[0].shape), name='MFCC')\n",
    "x = Conv2D(64, (3, 3), padding='valid', activation='relu')(inputTensorMfcc)\n",
    "x = Conv2D(64, (3, 3), padding='valid', activation='relu')(x)\n",
    "x = Conv2D(64, (3, 3), padding='valid', activation='relu')(x)\n",
    "x = MaxPooling2D((2 ,2))(x)\n",
    "x = Conv2D(128, (3, 3), padding='valid', activation='relu')(x)\n",
    "x = Conv2D(128, (3, 3), padding='valid', activation='relu')(x)\n",
    "x = MaxPooling2D((2 ,2))(x)\n",
    "x = Flatten()(x)\n",
    "x = Dropout(0.25)(x)\n",
    "x = Dense(128, activation='relu')(x)\n",
    "x = Dropout(0.25)(x)\n",
    "x = Dense(128, activation='relu')(x)\n",
    "x = Dropout(0.2)(x)\n",
    "\n",
    "# Raw wave branch\n",
    "inputTensorRaw = Input(shape=(trainDataRaw[0].shape), name='RawWave')\n",
    "y = Conv1D(64, 9, padding='same', activation='relu')(inputTensorRaw)\n",
    "y = Conv1D(64, 9, padding='same', activation='relu')(y)\n",
    "y = MaxPooling1D((7))(y)\n",
    "y = Conv1D(128, 9, padding='same', activation='relu')(y)\n",
    "y = Conv1D(128, 9, padding='same', activation='relu')(y)\n",
    "y = MaxPooling1D((7))(y)\n",
    "y = Conv1D(256, 9, padding='same', activation='relu')(y)\n",
    "y = Conv1D(256, 9, padding='same', activation='relu')(y)\n",
    "y = MaxPooling1D((5))(y)\n",
    "y = Flatten()(y)\n",
    "y = Dropout(0.4)(y)\n",
    "y = Dense(128, activation='relu')(y)\n",
    "y = Dropout(0.4)(y)\n",
    "\n",
    "concatenated = concatenate([x, y], axis=-1)\n",
    "\n",
    "outputTensor = Dense(33, activation='softmax')(concatenated)\n",
    "\n",
    "modelC = Model([inputTensorMfcc, inputTensorRaw], outputTensor)\n",
    "modelC.summary()\n",
    "\n",
    "modelC.compile(loss='categorical_crossentropy',\n",
    "          optimizer='adam',\n",
    "          metrics=['accuracy'])"
   ]
  },
  {
   "cell_type": "code",
   "execution_count": 105,
   "id": "coated-withdrawal",
   "metadata": {},
   "outputs": [
    {
     "name": "stdout",
     "output_type": "stream",
     "text": [
      "Epoch 1/15\n",
      "636/636 [==============================] - 128s 202ms/step - loss: 1.7240 - accuracy: 0.4988 - val_loss: 0.7001 - val_accuracy: 0.7845\n",
      "Epoch 2/15\n",
      "636/636 [==============================] - 128s 202ms/step - loss: 0.6947 - accuracy: 0.7881 - val_loss: 0.4356 - val_accuracy: 0.8672\n",
      "Epoch 3/15\n",
      "636/636 [==============================] - 128s 202ms/step - loss: 0.5002 - accuracy: 0.8477 - val_loss: 0.3476 - val_accuracy: 0.8946\n",
      "Epoch 4/15\n",
      "636/636 [==============================] - 129s 202ms/step - loss: 0.4076 - accuracy: 0.8744 - val_loss: 0.3234 - val_accuracy: 0.9007\n",
      "Epoch 5/15\n",
      "636/636 [==============================] - 129s 202ms/step - loss: 0.3509 - accuracy: 0.8928 - val_loss: 0.2868 - val_accuracy: 0.9120\n",
      "Epoch 6/15\n",
      "636/636 [==============================] - 129s 202ms/step - loss: 0.3090 - accuracy: 0.9047 - val_loss: 0.2689 - val_accuracy: 0.9188\n",
      "Epoch 7/15\n",
      "636/636 [==============================] - 129s 202ms/step - loss: 0.2806 - accuracy: 0.9125 - val_loss: 0.2742 - val_accuracy: 0.9153\n",
      "Epoch 8/15\n",
      "636/636 [==============================] - 129s 202ms/step - loss: 0.2580 - accuracy: 0.9195 - val_loss: 0.2808 - val_accuracy: 0.9185\n",
      "Epoch 9/15\n",
      "636/636 [==============================] - 129s 202ms/step - loss: 0.2385 - accuracy: 0.9254 - val_loss: 0.2613 - val_accuracy: 0.9227\n",
      "Epoch 10/15\n",
      "636/636 [==============================] - 129s 202ms/step - loss: 0.2228 - accuracy: 0.9302 - val_loss: 0.2481 - val_accuracy: 0.9255\n",
      "Epoch 11/15\n",
      "636/636 [==============================] - 129s 202ms/step - loss: 0.2066 - accuracy: 0.9351 - val_loss: 0.2527 - val_accuracy: 0.9246\n",
      "Epoch 12/15\n",
      "636/636 [==============================] - 129s 202ms/step - loss: 0.1977 - accuracy: 0.9382 - val_loss: 0.2580 - val_accuracy: 0.9258\n",
      "Epoch 13/15\n",
      "636/636 [==============================] - 129s 202ms/step - loss: 0.1842 - accuracy: 0.9423 - val_loss: 0.2645 - val_accuracy: 0.9273\n",
      "Epoch 14/15\n",
      "636/636 [==============================] - 129s 202ms/step - loss: 0.1768 - accuracy: 0.9434 - val_loss: 0.2542 - val_accuracy: 0.9295\n",
      "Epoch 15/15\n",
      "636/636 [==============================] - 129s 202ms/step - loss: 0.1738 - accuracy: 0.9458 - val_loss: 0.2490 - val_accuracy: 0.9294\n"
     ]
    }
   ],
   "source": [
    "# Fit combined model\n",
    "historyC = modelC.fit([trainDataMfcc, trainDataRaw],\n",
    "          trainLabels,\n",
    "          epochs=15,\n",
    "          batch_size=128,\n",
    "          validation_data=([validationDataMfcc, validationDataRaw], validationLabels))"
   ]
  },
  {
   "cell_type": "code",
   "execution_count": 106,
   "id": "guilty-joyce",
   "metadata": {},
   "outputs": [
    {
     "name": "stdout",
     "output_type": "stream",
     "text": [
      "318/318 [==============================] - 5s 16ms/step - loss: 0.2640 - accuracy: 0.9251\n"
     ]
    }
   ],
   "source": [
    "resultsC = modelC.evaluate([testDataMfcc, testDataRaw], testLabels)"
   ]
  },
  {
   "cell_type": "code",
   "execution_count": 107,
   "id": "rolled-throat",
   "metadata": {},
   "outputs": [],
   "source": [
    "# Prepare performance graph, Combined model\n",
    "plt.style.use('seaborn-whitegrid')\n",
    "historyDictC = historyC.history\n",
    "lossC = historyDictC['loss']\n",
    "valLossC = historyDictC['val_loss']\n",
    "accC = historyDictC['accuracy']\n",
    "valAccC = historyDictC['val_accuracy']\n",
    "epochsC = range(1, len(lossC) + 1)"
   ]
  },
  {
   "cell_type": "code",
   "execution_count": 108,
   "id": "resistant-buying",
   "metadata": {},
   "outputs": [
    {
     "data": {
      "text/plain": [
       "<function matplotlib.pyplot.show(close=None, block=None)>"
      ]
     },
     "execution_count": 108,
     "metadata": {},
     "output_type": "execute_result"
    },
    {
     "data": {
      "text/plain": [
       "<Figure size 432x288 with 0 Axes>"
      ]
     },
     "metadata": {},
     "output_type": "display_data"
    },
    {
     "data": {
      "image/png": "[encoded data removed]",
      "text/plain": [
       "<Figure size 576x432 with 2 Axes>"
      ]
     },
     "metadata": {},
     "output_type": "display_data"
    }
   ],
   "source": [
    "plt.clf()\n",
    "fig, ax = plt.subplots(2, figsize=(8,6))\n",
    "fig.suptitle(\"Accuracy and Loss for Combined model\", fontsize=18)\n",
    "ax[0].plot(epochsC, accC, '--r', label='Training accuracy')\n",
    "ax[0].plot(epochsC, valAccC, 'b', label='Validation accuracy')\n",
    "ax[0].set_xticks(epochsC)\n",
    "ax[0].set_yticks(np.arange(0.0, 1.0, step=0.1))\n",
    "ax[0].set_ylabel(\"Accuracy\", fontsize=16)\n",
    "ax[0].set_ylim(0.6, 1.0)\n",
    "\n",
    "ax[1].plot(epochsC, lossC, '--r', label='Training Loss')\n",
    "ax[1].plot(epochsC, valLossC, 'b', label='Validation Loss')\n",
    "ax[1].set_yticks(np.arange(0.0, 2.0, step=0.5))\n",
    "ax[1].set_ylabel(\"Loss\", fontsize=16)\n",
    "ax[1].set_xlabel(\"Epochs\", fontsize=16)\n",
    "\n",
    "ax[0].legend(fontsize=12, loc='lower right')\n",
    "ax[1].legend(fontsize=12, loc='upper right')\n",
    "plt.show"
   ]
  },
  {
   "cell_type": "markdown",
   "id": "cross-intro",
   "metadata": {},
   "source": [
    "# Hypothesis testing"
   ]
  },
  {
   "cell_type": "code",
   "execution_count": 136,
   "id": "daily-hawaiian",
   "metadata": {},
   "outputs": [],
   "source": [
    "# Get predictions from the testset\n",
    "predictC = modelC.predict([testDataMfcc, testDataRaw])\n",
    "predictR = modelR.predict(testDataRaw)\n",
    "predictM = modelM.predict(testDataMfcc)"
   ]
  },
  {
   "cell_type": "code",
   "execution_count": 139,
   "id": "powered-acrobat",
   "metadata": {},
   "outputs": [],
   "source": [
    "# One-hot encoded trueLabels to initial format\n",
    "trueLabels = [np.where(i==1)[0][0] for i in testLabels]\n",
    "# Get the predicted labels in same format as trueLabels\n",
    "predictedLabelsC = [np.argmax(i) for i in predictC]\n",
    "predictedLabelsR = [np.argmax(i) for i in predictR]\n",
    "predictedLabelsM = [np.argmax(i) for i in predictM]"
   ]
  },
  {
   "cell_type": "code",
   "execution_count": 180,
   "id": "involved-cyprus",
   "metadata": {},
   "outputs": [],
   "source": [
    "def contTableMcNemar(trueLabels, table1, table2):\n",
    "    '''\n",
    "    Takes truelabels and two tables with predictions and create a McNemar contingency table.\n",
    "    '''\n",
    "    contTable = [[0, 0],\n",
    "                 [0, 0]]\n",
    "    # Running for C vs R\n",
    "    for id, trueL in enumerate(trueLabels):\n",
    "        if trueL == table1[id] and trueL == table2[id]:\n",
    "            contTable[0][0] += 1\n",
    "        elif trueL == table1[id] and trueL != table2[id]:\n",
    "            contTable[0][1] += 1\n",
    "        elif trueL != table1[id] and trueL == table2[id]:\n",
    "            contTable[1][0] += 1\n",
    "        elif trueL != table1[id] and trueL != table2[id]:\n",
    "            contTable[1][1] += 1\n",
    "        else:\n",
    "            print(\"Error\")\n",
    "    return contTable"
   ]
  },
  {
   "cell_type": "code",
   "execution_count": 206,
   "id": "existing-schema",
   "metadata": {},
   "outputs": [],
   "source": [
    "def calcMcNemarStatistic(contTable):\n",
    "    return mcnemar(contTable, exact=False, correction=False)"
   ]
  },
  {
   "cell_type": "code",
   "execution_count": 181,
   "id": "close-crazy",
   "metadata": {},
   "outputs": [],
   "source": [
    "contTableCR = contTableMcNemar(trueLabels, predictedLabelsC, predictedLabelsR)\n",
    "contTableCM = contTableMcNemar(trueLabels, predictedLabelsC, predictedLabelsM)"
   ]
  },
  {
   "cell_type": "code",
   "execution_count": 207,
   "id": "cathedral-bouquet",
   "metadata": {},
   "outputs": [
    {
     "name": "stdout",
     "output_type": "stream",
     "text": [
      "[[8977, 429], [310, 451]]\n",
      "pvalue      1.2005620115534358e-05\n",
      "statistic   19.16238159675237\n",
      "[[8987, 419], [279, 482]]\n",
      "pvalue      1.1638881387815285e-07\n",
      "statistic   28.08022922636103\n"
     ]
    }
   ],
   "source": [
    "# Calculating the mcnemar test\n",
    "# Combined model vs Raw wave model\n",
    "print(contTableCR)\n",
    "print(calcMcNemarStatistic(contTableCR))\n",
    "# Combined model vs MFCC model\n",
    "print(contTableCM)\n",
    "print(calcMcNemarStatistic(contTableCM))"
   ]
  },
  {
   "cell_type": "code",
   "execution_count": 145,
   "id": "recent-reserve",
   "metadata": {},
   "outputs": [],
   "source": [
    "cmC = tf.math.confusion_matrix(trueLabels, predictedLabelsC, num_classes=None, dtype=tf.dtypes.int32)\n",
    "cmR = tf.math.confusion_matrix(trueLabels, predictedLabelsR, num_classes=None, dtype=tf.dtypes.int32)\n",
    "cmM = tf.math.confusion_matrix(trueLabels, predictedLabelsM, num_classes=None, dtype=tf.dtypes.int32)"
   ]
  }
 ],
 "metadata": {
  "kernelspec": {
   "display_name": "Python 3",
   "language": "python",
   "name": "python3"
  },
  "language_info": {
   "codemirror_mode": {
    "name": "ipython",
    "version": 3
   },
   "file_extension": ".py",
   "mimetype": "text/x-python",
   "name": "python",
   "nbconvert_exporter": "python",
   "pygments_lexer": "ipython3",
   "version": "3.8.5"
  }
 },
 "nbformat": 4,
 "nbformat_minor": 5
}
